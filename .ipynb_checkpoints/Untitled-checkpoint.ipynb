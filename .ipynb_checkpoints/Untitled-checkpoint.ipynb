{
 "cells": [
  {
   "cell_type": "markdown",
   "metadata": {},
   "source": [
    "# Numpy.Random Package - Brief introduction\n",
    "\n",
    "--------------------------------------------------------------------------------------------------------    "
   ]
  },
  {
   "cell_type": "markdown",
   "metadata": {},
   "source": [
    "![Numpy Python](numpy.png)"
   ]
  },
  {
   "cell_type": "markdown",
   "metadata": {},
   "source": [
    "## First Step - What is Numpy\n",
    "\n",
    "[Learn Numpy In 5 minutes](https://www.youtube.com/watch?v=8JfDAm9y_7s)\n",
    "\n",
    "NumPy (short from Numeric Python) is the fundamental package for scientific computing with Python. \n",
    "It contains among other things:\n",
    "\n",
    "- implementing multi-dimensional arrays and matrices\n",
    "\n",
    "- wide range of unique functions\n",
    "\n",
    "- enrichment of Python with powerful data structures\n",
    "\n",
    "- designed for scientific computation\n",
    "\n",
    "-----------------------------------------------------------------------------------\n"
   ]
  },
  {
   "cell_type": "markdown",
   "metadata": {},
   "source": [
    "### Examples of numpy functionality:\n",
    "### 1. Show all the numbers in specified range:\n",
    "    start point: 0\n",
    "        End point: 10\n",
    "            step point: 2"
   ]
  },
  {
   "cell_type": "code",
   "execution_count": 3,
   "metadata": {},
   "outputs": [],
   "source": [
    "import numpy as np\n"
   ]
  },
  {
   "cell_type": "code",
   "execution_count": 4,
   "metadata": {},
   "outputs": [
    {
     "data": {
      "text/plain": [
       "array([0, 2, 4, 6, 8])"
      ]
     },
     "execution_count": 4,
     "metadata": {},
     "output_type": "execute_result"
    }
   ],
   "source": [
    "A = np.arange(0,10,2)\n",
    "A"
   ]
  },
  {
   "cell_type": "markdown",
   "metadata": {},
   "source": [
    "- Numpy allow to show all the numbers inbetween selected figures (1-10) separated by specified number (2)"
   ]
  },
  {
   "cell_type": "markdown",
   "metadata": {},
   "source": [
    "### 2. np.random.rand - display a random number for given dimention - 2 rows with 3 columns"
   ]
  },
  {
   "cell_type": "code",
   "execution_count": 5,
   "metadata": {},
   "outputs": [
    {
     "data": {
      "text/plain": [
       "array([[0.12480579, 0.80302056, 0.71992376],\n",
       "       [0.48938358, 0.52184787, 0.10042734]])"
      ]
     },
     "execution_count": 5,
     "metadata": {},
     "output_type": "execute_result"
    }
   ],
   "source": [
    "np.random.rand(2,3)"
   ]
  },
  {
   "cell_type": "markdown",
   "metadata": {},
   "source": [
    "### 3. Numpy allows to add values to output of its calculation bu APPEND function"
   ]
  },
  {
   "cell_type": "code",
   "execution_count": 6,
   "metadata": {},
   "outputs": [
    {
     "data": {
      "text/plain": [
       "array([0, 2, 4, 6, 8, 1, 2, 3, 4, 5])"
      ]
     },
     "execution_count": 6,
     "metadata": {},
     "output_type": "execute_result"
    }
   ],
   "source": [
    "np.append(A,(1,2,3,4,5))"
   ]
  },
  {
   "cell_type": "markdown",
   "metadata": {},
   "source": [
    "### 4. NP.Difference "
   ]
  },
  {
   "cell_type": "code",
   "execution_count": 7,
   "metadata": {},
   "outputs": [
    {
     "data": {
      "text/plain": [
       "array([2, 2, 2, 2])"
      ]
     },
     "execution_count": 7,
     "metadata": {},
     "output_type": "execute_result"
    }
   ],
   "source": [
    "np.diff(A)"
   ]
  },
  {
   "cell_type": "markdown",
   "metadata": {},
   "source": [
    "- Substracting next number from previous number"
   ]
  },
  {
   "cell_type": "code",
   "execution_count": 8,
   "metadata": {},
   "outputs": [
    {
     "data": {
      "text/plain": [
       "array([  0,   2,   4,   6,   8, 100,  23,   5,   1,  10,  20])"
      ]
     },
     "execution_count": 8,
     "metadata": {},
     "output_type": "execute_result"
    }
   ],
   "source": [
    "A = np.append(A,(100,23,5,1,10,20))\n",
    "A"
   ]
  },
  {
   "cell_type": "code",
   "execution_count": 9,
   "metadata": {},
   "outputs": [
    {
     "data": {
      "text/plain": [
       "array([  2,   2,   2,   2,  92, -77, -18,  -4,   9,  10])"
      ]
     },
     "execution_count": 9,
     "metadata": {},
     "output_type": "execute_result"
    }
   ],
   "source": [
    "np.diff(A)"
   ]
  },
  {
   "cell_type": "code",
   "execution_count": 10,
   "metadata": {},
   "outputs": [
    {
     "data": {
      "text/plain": [
       "array([  2,   2,   2,   2,  92, -77, -18,  -4,   9,  10])"
      ]
     },
     "execution_count": 10,
     "metadata": {},
     "output_type": "execute_result"
    }
   ],
   "source": [
    "np.diff(A,n=1) ##substracted x1 - the same output as np.diff(A)"
   ]
  },
  {
   "cell_type": "code",
   "execution_count": 11,
   "metadata": {},
   "outputs": [
    {
     "data": {
      "text/plain": [
       "array([   0,    0,    0,   90, -169,   59,   14,   13,    1])"
      ]
     },
     "execution_count": 11,
     "metadata": {},
     "output_type": "execute_result"
    }
   ],
   "source": [
    "np.diff(A,n=2) ##substracted x 2"
   ]
  },
  {
   "cell_type": "code",
   "execution_count": 12,
   "metadata": {},
   "outputs": [
    {
     "data": {
      "text/plain": [
       "array([   0,    0,   90, -259,  228,  -45,   -1,  -12])"
      ]
     },
     "execution_count": 12,
     "metadata": {},
     "output_type": "execute_result"
    }
   ],
   "source": [
    "np.diff(A,n=3) ##substracted x 3"
   ]
  },
  {
   "cell_type": "markdown",
   "metadata": {},
   "source": [
    "### 5. Np Vertical Stack - to present data in vertical way"
   ]
  },
  {
   "cell_type": "code",
   "execution_count": 13,
   "metadata": {},
   "outputs": [
    {
     "data": {
      "text/plain": [
       "array([[1, 2, 3],\n",
       "       [4, 5, 6],\n",
       "       [7, 8, 9]])"
      ]
     },
     "execution_count": 13,
     "metadata": {},
     "output_type": "execute_result"
    }
   ],
   "source": [
    "a = [1,2,3]\n",
    "b = [4,5,6]\n",
    "c = [7,8,9]\n",
    "\n",
    "np.vstack((a,b,c))"
   ]
  },
  {
   "cell_type": "code",
   "execution_count": 14,
   "metadata": {},
   "outputs": [
    {
     "data": {
      "text/plain": [
       "array([[1, 4],\n",
       "       [2, 5],\n",
       "       [3, 6]])"
      ]
     },
     "execution_count": 14,
     "metadata": {},
     "output_type": "execute_result"
    }
   ],
   "source": [
    "np.column_stack((a,b)) ##opposite to vertical, column set"
   ]
  },
  {
   "cell_type": "markdown",
   "metadata": {},
   "source": [
    "### 6. Slicing\n",
    "\n",
    "* Currently attribute A holds many different numbers, lets say we want to see what is between 3rd and 5th number in the array inclusive. Use slicing"
   ]
  },
  {
   "cell_type": "code",
   "execution_count": 15,
   "metadata": {},
   "outputs": [
    {
     "data": {
      "text/plain": [
       "array([  0,   2,   4,   6,   8, 100,  23,   5,   1,  10,  20])"
      ]
     },
     "execution_count": 15,
     "metadata": {},
     "output_type": "execute_result"
    }
   ],
   "source": [
    "A"
   ]
  },
  {
   "cell_type": "code",
   "execution_count": 16,
   "metadata": {},
   "outputs": [
    {
     "data": {
      "text/plain": [
       "array([4, 6, 8])"
      ]
     },
     "execution_count": 16,
     "metadata": {},
     "output_type": "execute_result"
    }
   ],
   "source": [
    "A[2:5]"
   ]
  },
  {
   "cell_type": "markdown",
   "metadata": {},
   "source": [
    "------------------------------------------------\n",
    "## Numpy.random package will show random sampling from the specific population. \n",
    "\n",
    "As per source - the  scipy website numpy.random distributions are split 4 ways:\n",
    "\n",
    "- Simple Random Data\n",
    "- Permutations\n",
    "- Distributions\n",
    "- Random Generators\n",
    "\n",
    "-----------------------------------------------------------------------------------------------------------------------------"
   ]
  },
  {
   "cell_type": "markdown",
   "metadata": {},
   "source": [
    "## Simple Random Data\n",
    "A sample of simple random number is a subset of a statistical population where each member of the subset is in possesion of an equal probability of being chosen. \n",
    "It is a number that was chosen randomly and belongs to certain group of numbers.\n",
    "\n",
    "As per Numpy this distribution contains of 10 functions, each giving user different option for randomisation of data."
   ]
  },
  {
   "cell_type": "markdown",
   "metadata": {},
   "source": [
    "----------------\n",
    "### Random Sample - gives any random number between 0.0 and 1.0 of type float"
   ]
  },
  {
   "cell_type": "code",
   "execution_count": 17,
   "metadata": {},
   "outputs": [
    {
     "data": {
      "text/plain": [
       "0.22734007804032452"
      ]
     },
     "execution_count": 17,
     "metadata": {},
     "output_type": "execute_result"
    }
   ],
   "source": [
    "import numpy as np\n",
    "np.random.random_sample()"
   ]
  },
  {
   "cell_type": "code",
   "execution_count": 18,
   "metadata": {},
   "outputs": [
    {
     "data": {
      "text/plain": [
       "float"
      ]
     },
     "execution_count": 18,
     "metadata": {},
     "output_type": "execute_result"
    }
   ],
   "source": [
    "type(np.random.random_sample())"
   ]
  },
  {
   "cell_type": "code",
   "execution_count": 19,
   "metadata": {},
   "outputs": [
    {
     "data": {
      "text/plain": [
       "array([0.44610253, 0.62401243, 0.79752621, 0.28264408, 0.24495108])"
      ]
     },
     "execution_count": 19,
     "metadata": {},
     "output_type": "execute_result"
    }
   ],
   "source": [
    "np.random.random_sample((5,))"
   ]
  },
  {
   "cell_type": "markdown",
   "metadata": {},
   "source": [
    "------------------------------------------------\n",
    "### Bytes - give number of bytes"
   ]
  },
  {
   "cell_type": "code",
   "execution_count": 20,
   "metadata": {},
   "outputs": [
    {
     "data": {
      "text/plain": [
       "b'\\x05h\\xa3\\xac`\\x06\\xb3\\x16\\x05%'"
      ]
     },
     "execution_count": 20,
     "metadata": {},
     "output_type": "execute_result"
    }
   ],
   "source": [
    "import numpy as np\n",
    "np.random.bytes(10)"
   ]
  },
  {
   "cell_type": "markdown",
   "metadata": {},
   "source": [
    "-----------\n",
    "### Ranf - Return random floats in the half-open interval [0.0, 1.0)."
   ]
  },
  {
   "cell_type": "code",
   "execution_count": 21,
   "metadata": {},
   "outputs": [
    {
     "data": {
      "text/plain": [
       "float"
      ]
     },
     "execution_count": 21,
     "metadata": {},
     "output_type": "execute_result"
    }
   ],
   "source": [
    "import numpy as np\n",
    "type(np.random.random_sample())"
   ]
  },
  {
   "cell_type": "markdown",
   "metadata": {},
   "source": [
    "----------------------------------------------------------"
   ]
  },
  {
   "cell_type": "markdown",
   "metadata": {},
   "source": [
    "## Permutations\n",
    "As per Oxford dictionary permutations for mathematics means \" The action of changing the arrangement, especially the linear order, of a set of items\". \n",
    "Permutation function randomly permutes a sequence or returns a permuted range. "
   ]
  },
  {
   "cell_type": "markdown",
   "metadata": {},
   "source": [
    "The difference between permutation and combination is:\n",
    "- if order does NOT matter is COMBINATION\n",
    "- if order DOES matter is PERMUTATION"
   ]
  },
  {
   "cell_type": "code",
   "execution_count": 13,
   "metadata": {},
   "outputs": [
    {
     "data": {
      "text/plain": [
       "['Cooking', 'Watching football', 'Studying', 'Cleaning']"
      ]
     },
     "execution_count": 13,
     "metadata": {},
     "output_type": "execute_result"
    }
   ],
   "source": [
    "#Permutations are used for example to mix sequence of activities, days, names, in order to get random list. Example: you can prepare your day task list by using permutation like below:\n",
    "import random\n",
    "day = ['Cooking', 'Cleaning', 'Studying', 'Watching football']\n",
    "random.shuffle(day)\n",
    "day"
   ]
  },
  {
   "cell_type": "code",
   "execution_count": 15,
   "metadata": {},
   "outputs": [
    {
     "data": {
      "text/plain": [
       "array([4, 2, 1, 3])"
      ]
     },
     "execution_count": 15,
     "metadata": {},
     "output_type": "execute_result"
    }
   ],
   "source": [
    "import numpy as np\n",
    "np.random.permutation(range(1,5))"
   ]
  },
  {
   "cell_type": "markdown",
   "metadata": {},
   "source": [
    "-------------\n",
    "\n",
    "### Itertools"
   ]
  },
  {
   "cell_type": "code",
   "execution_count": 22,
   "metadata": {},
   "outputs": [
    {
     "name": "stdout",
     "output_type": "stream",
     "text": [
      "[(1, 2, 3), (1, 3, 2), (2, 1, 3), (2, 3, 1), (3, 1, 2), (3, 2, 1)]\n"
     ]
    }
   ],
   "source": [
    "#you can check all posible variations of combinations of numbers 1,2,3 by using permutations(intertools)\n",
    "\n",
    "import itertools\n",
    "print(list(itertools.permutations([1,2,3])))"
   ]
  },
  {
   "cell_type": "markdown",
   "metadata": {},
   "source": [
    "-------------------------------------------------------------------"
   ]
  },
  {
   "cell_type": "markdown",
   "metadata": {},
   "source": [
    "\n",
    "## Distributions\n",
    "\n",
    "Probability is a measure of how likely something is to happen. \n",
    "Many events can't be predicted with total certainty and in order to predict how likely something is about to happen we calculate probability.\n",
    "Calculation could have outcome of 0 - when it is not going to happen to 1 when it will happen 100%.\n",
    "What is important to remember is that probability does not tell us exactly what will happen, it is just a guide.\n",
    "When working with data, variables in the columns of the data set can be thought of as random variables: variables that vary due to chance. \n",
    "A probability distribution is a function that describes the likelihood of obtaining the possible values that a random variable can assume. \n",
    "There are many different classifications of probability distributions. \n",
    "Some of them include the normal distribution, chi square distribution, binomial distribution, and Poisson distribution. \n",
    "The different probability distributions serve different purposes and represent different data generation processes.\n",
    "\n",
    "Task  for this repository is to present 5 types of distributions."
   ]
  },
  {
   "cell_type": "markdown",
   "metadata": {},
   "source": [
    "-------------------\n",
    "\n",
    "### 1. Normal Distribution - Numpy Random Normal\n",
    "\n",
    "It is the most basic of all distributions. Draw random samples from a normal (Gaussian) distribution."
   ]
  },
  {
   "cell_type": "code",
   "execution_count": 26,
   "metadata": {},
   "outputs": [
    {
     "data": {
      "image/png": "[encoded data removed]",
      "text/plain": [
       "<IPython.core.display.Image object>"
      ]
     },
     "execution_count": 26,
     "metadata": {},
     "output_type": "execute_result"
    }
   ],
   "source": [
    "from IPython.display import Image\n",
    "Image(filename='normal curve.PNG')"
   ]
  },
  {
   "cell_type": "markdown",
   "metadata": {},
   "source": [
    "Normal distribution looks as per above: symmetric bell-shaped curve gives information about mean value (ц) and values close to it are the ones most likely to happen.\n",
    "It is a way of presenting data by arranging for each data point probability of occurance.\n",
    "By using numpy rich library of functions we are able to calculate mathematically values for normal distributions.\n",
    "In order to present this in a better way we use histograms - to plot probability distribution curve."
   ]
  },
  {
   "cell_type": "code",
   "execution_count": 29,
   "metadata": {},
   "outputs": [
    {
     "data": {
      "image/png": "[encoded data removed]",
      "text/plain": [
       "<Figure size 432x288 with 1 Axes>"
      ]
     },
     "metadata": {
      "needs_background": "light"
     },
     "output_type": "display_data"
    }
   ],
   "source": [
    "import matplotlib.pyplot as plt\n",
    "import numpy as np\n",
    "\n",
    "mu, sigma = 1, 1\n",
    "s = np.random.normal(mu, sigma, 10000)\n",
    "\n",
    "# Present histogram  and bins\n",
    "count, bins, ignored = plt.hist(s, 20, normed=True)\n",
    "\n",
    "# Add distribution curve\n",
    "plt.plot(bins, 1/(sigma * np.sqrt(2 * np.pi)) *\n",
    "    np.exp( - (bins - mu)**2 / (2 * sigma**2) ),       linewidth=3, color='y')\n",
    "plt.show()"
   ]
  },
  {
   "cell_type": "markdown",
   "metadata": {},
   "source": [
    "-----------\n",
    "\n",
    "### 2. CHI square Distribution - Numpy.Random.ChiSquare(df, size=None)"
   ]
  },
  {
   "cell_type": "code",
   "execution_count": 34,
   "metadata": {},
   "outputs": [
    {
     "data": {
      "text/plain": [
       "array([2.54877649, 0.87527018, 1.99187725, 0.20066083])"
      ]
     },
     "execution_count": 34,
     "metadata": {},
     "output_type": "execute_result"
    }
   ],
   "source": [
    "np.random.chisquare(2,4)"
   ]
  },
  {
   "cell_type": "markdown",
   "metadata": {},
   "source": [
    "\"df\" stands for degrees of freedom and should always be above 0. Thie higher it will get the more histogram will look alike normal distribution one.\n",
    "Below code draws a random sample of Chi-square distribution. That is random sample of values taken from a normal distribution and squared.\n",
    "This is one of most popular distributions used in hypothesis testing.\n"
   ]
  },
  {
   "cell_type": "code",
   "execution_count": 42,
   "metadata": {},
   "outputs": [
    {
     "data": {
      "text/plain": [
       "(array([  9.,  62., 125., 208., 251., 155., 122.,  48.,  16.,   4.]),\n",
       " array([ 62.41512948,  70.93659878,  79.45806807,  87.97953737,\n",
       "         96.50100667, 105.02247597, 113.54394526, 122.06541456,\n",
       "        130.58688386, 139.10835315, 147.62982245]),\n",
       " <a list of 10 Patch objects>)"
      ]
     },
     "execution_count": 42,
     "metadata": {},
     "output_type": "execute_result"
    },
    {
     "data": {
      "image/png": "[encoded data removed]",
      "text/plain": [
       "<Figure size 432x288 with 1 Axes>"
      ]
     },
     "metadata": {
      "needs_background": "light"
     },
     "output_type": "display_data"
    }
   ],
   "source": [
    "# Generate a random sample of 1,000 values from a Chi-square distribution with 4 degrees of freedom (df)\n",
    "chisq = np.random.chisquare(100, 1000)\n",
    "\n",
    "# present values on histogram\n",
    "plt.hist(chisq)\n"
   ]
  },
  {
   "cell_type": "markdown",
   "metadata": {},
   "source": [
    "-------------\n",
    "\n",
    "### 3. Exponential Distribution - Numpy Random Exponential\n",
    "\n",
    "This distribution is used for measuring:\n",
    "- The amount of time until the customer will visit your website and actually purchase something from it (success).\n",
    "- The amount of time until the hardware fails (failure).\n",
    "- The amount of time you need to wait until the bus arrives (arrival).\n",
    "\n",
    "Numpy Random Exponential distribution selects random numbers from an exponential distribution."
   ]
  },
  {
   "cell_type": "code",
   "execution_count": 46,
   "metadata": {},
   "outputs": [
    {
     "data": {
      "text/plain": [
       "0.710329469013684"
      ]
     },
     "execution_count": 46,
     "metadata": {},
     "output_type": "execute_result"
    }
   ],
   "source": [
    "np.random.exponential(scale=1.0, size=None)"
   ]
  },
  {
   "cell_type": "code",
   "execution_count": 79,
   "metadata": {},
   "outputs": [
    {
     "data": {
      "text/plain": [
       "<function matplotlib.pyplot.show(*args, **kw)>"
      ]
     },
     "execution_count": 79,
     "metadata": {},
     "output_type": "execute_result"
    },
    {
     "data": {
      "image/png": "[encoded data removed]",
      "text/plain": [
       "<Figure size 432x288 with 1 Axes>"
      ]
     },
     "metadata": {
      "needs_background": "light"
     },
     "output_type": "display_data"
    }
   ],
   "source": [
    "# Plot an exponential probability distribution#\n",
    "\n",
    "plt.hist(np.random.exponential(2, 10000))\n",
    "plt.show"
   ]
  },
  {
   "cell_type": "raw",
   "metadata": {},
   "source": [
    "In probability theory and statistics, the exponential distribution is the probability distribution of the time between events in a Poisson point process, i.e., \n",
    "a process in which events occur continuously and independently at a constant average rate. It is a particular case of the gamma distribution."
   ]
  },
  {
   "cell_type": "markdown",
   "metadata": {},
   "source": [
    "It is possible to set target on histogram in order to see what is the probability of gaining certain amoutn of values.\n"
   ]
  },
  {
   "cell_type": "code",
   "execution_count": 98,
   "metadata": {},
   "outputs": [
    {
     "data": {
      "image/png": "[encoded data removed]",
      "text/plain": [
       "<Figure size 432x288 with 1 Axes>"
      ]
     },
     "metadata": {
      "needs_background": "light"
     },
     "output_type": "display_data"
    }
   ],
   "source": [
    "import numpy as np\n",
    "import pylab as plt\n",
    "\n",
    "target =  100\n",
    "beta = 1/target\n",
    "\n",
    "Y = np.random.exponential(beta, 10000)\n",
    "plt.hist(Y, normed=True, bins=200,lw=0,alpha=.8)\n",
    "plt.plot([0,max(Y)],[target,target],'r--')\n",
    "plt.ylim(0,target*1.1)\n",
    "plt.show()"
   ]
  },
  {
   "cell_type": "markdown",
   "metadata": {},
   "source": [
    "----------------\n",
    "\n",
    "### 4. Laplace Distribution - numpy.random.laplace(loc=0.0, scale=1.0, size=None)\n",
    "\n",
    "Draw samples from the Laplace or double exponential distribution with specified location (or mean) and scale (decay).\n",
    "\n",
    "The Laplace distribution is similar to the Gaussian/normal distribution, but is sharper at the peak and has fatter tails. It represents the difference between two independent, identically distributed exponential random variables."
   ]
  },
  {
   "cell_type": "code",
   "execution_count": 102,
   "metadata": {},
   "outputs": [
    {
     "name": "stdout",
     "output_type": "stream",
     "text": [
      "[-0.37263653 -0.08698812  0.66781773 -0.28739303  0.37792815 -0.40435767\n",
      "  0.36846922 -0.05789491 -2.44701587  0.26263783]\n"
     ]
    }
   ],
   "source": [
    "loc, scale = 0.1, 1.\n",
    "s = np.random.laplace(loc, scale, 10)\n",
    "print(s)"
   ]
  },
  {
   "cell_type": "code",
   "execution_count": 113,
   "metadata": {},
   "outputs": [
    {
     "data": {
      "text/plain": [
       "(array([4.000e+00, 1.900e+01, 9.700e+01, 4.640e+02, 2.352e+03, 5.327e+03,\n",
       "        1.408e+03, 2.590e+02, 5.200e+01, 1.800e+01]),\n",
       " array([-848.55570594, -689.14804142, -529.7403769 , -370.33271238,\n",
       "        -210.92504786,  -51.51738334,  107.89028119,  267.29794571,\n",
       "         426.70561023,  586.11327475,  745.52093927]),\n",
       " <a list of 10 Patch objects>)"
      ]
     },
     "execution_count": 113,
     "metadata": {},
     "output_type": "execute_result"
    },
    {
     "data": {
      "image/png": "[encoded data removed]",
      "text/plain": [
       "<Figure size 432x288 with 1 Axes>"
      ]
     },
     "metadata": {
      "needs_background": "light"
     },
     "output_type": "display_data"
    }
   ],
   "source": [
    "loc, scale = 0, 100.\n",
    "s = np.random.laplace(loc, scale, 10000)\n",
    "\n",
    "plt.hist(s)"
   ]
  },
  {
   "cell_type": "markdown",
   "metadata": {},
   "source": [
    "-------------\n",
    "\n",
    "### 5. Logistic Distribution - numpy.random.logistic\n",
    "\n",
    "The Logistic distribution is used in Extreme Value problems where it can act as a mixture of Gumbel distributions, in Epidemiology, and by the World Chess Federation (FIDE) where it is used in the Elo ranking system, assuming the performance of each player is a logistically distributed random variable."
   ]
  },
  {
   "cell_type": "code",
   "execution_count": 119,
   "metadata": {},
   "outputs": [
    {
     "data": {
      "image/png": "[encoded data removed]",
      "text/plain": [
       "<Figure size 432x288 with 1 Axes>"
      ]
     },
     "metadata": {
      "needs_background": "light"
     },
     "output_type": "display_data"
    }
   ],
   "source": [
    "loc, scale = 20, 1\n",
    "s = np.random.logistic(loc, scale, 100000)\n",
    "count, bins, ignored = plt.hist(s, bins=100)"
   ]
  },
  {
   "cell_type": "code",
   "execution_count": 3,
   "metadata": {},
   "outputs": [
    {
     "name": "stdout",
     "output_type": "stream",
     "text": [
      "244\n",
      "244\n",
      "607\n"
     ]
    }
   ],
   "source": [
    "\n",
    "import random \n",
    "  \n",
    "random.seed(3) \n",
    "  \n",
    "# print a random number between 1 and 1000. \n",
    "print(random.randint(1, 1000)) \n",
    "  \n",
    "# if you want to get the same random number again then, \n",
    "random.seed(3)  \n",
    "print(random.randint(1, 1000)) \n",
    "  \n",
    "# If seed function is not used \n",
    "  \n",
    "# Gives totally unpredictable response. \n",
    "print(random.randint(1, 1000)) \n",
    "  "
   ]
  },
  {
   "cell_type": "markdown",
   "metadata": {},
   "source": [
    "# Seeds\n",
    "\n",
    "The use of seeds while generating pseudorandom numbers.\n",
    "\n",
    "Seed is a number that is used to initialize what is called a pseudorandom number generator. That number is used in most cases in computing (instead of random number).\n",
    "A Pseudo-Random Number Generator (PRNG) is initialized from a predictable seed, such as the process ID or system time. \n",
    "A pseudorandom number generator's number sequence is completely determined by the seed: thus, if a pseudorandom number generator is reinitialized with the same seed, it will produce the same sequence of numbers.\n",
    "\n",
    "For a seed to be used in a pseudorandom number generator, it does not need to be random. Because of the nature of PRNG, so long as the original seed is ignored, the rest of the values that the algorithm generates will follow probability distribution in a pseudorandom manner.\n",
    "\n",
    "Numpy uses a pseudorandom number generator called the Mersenne Twister. The seed() function will seed the pseudorandom number generator, taking an integer value as an argument, such as 1 or 7. If the seed() function is not called prior to using randomness, the default is to use the current system time in milliseconds from epoch.The use of randomness is an important part of the configuration and evaluation of machine learning algorithms.\n",
    "\n",
    "The following are functions used in random number generators in numpy:\n",
    "\n",
    "* Random State\n",
    "* Seed\n",
    "* get_state\n",
    "* set_state\n"
   ]
  },
  {
   "cell_type": "code",
   "execution_count": 26,
   "metadata": {},
   "outputs": [
    {
     "data": {
      "text/plain": [
       "0.23796462709189137"
      ]
     },
     "execution_count": 26,
     "metadata": {},
     "output_type": "execute_result"
    }
   ],
   "source": [
    "# the same seed will result in the same random number\n",
    "# random.random() generates a random number\n",
    "import random\n",
    "random.seed(3) # seeding with a number that is chosen\n",
    "random.random()\n"
   ]
  },
  {
   "cell_type": "code",
   "execution_count": 27,
   "metadata": {},
   "outputs": [
    {
     "data": {
      "text/plain": [
       "0.23796462709189137"
      ]
     },
     "execution_count": 27,
     "metadata": {},
     "output_type": "execute_result"
    }
   ],
   "source": [
    "random.seed(3) # If you use the same number before\n",
    "random.random() # generates the same random number as before"
   ]
  },
  {
   "cell_type": "markdown",
   "metadata": {},
   "source": [
    "-------------------\n",
    "---------------------\n",
    "#  References images,links,codeandplots:\n",
    "- [Mastering Python Scientific Computing - Hemant Kumar Mehta](https://books.google.ie/books?id=6NROCwAAQBAJ&pg=PA100&lpg=PA100&dq=numpy+%22simple+random+data%22&source=bl&ots=PGrhwtRPop&sig=ACfU3U0tbH3Br0t70yHdy5fcU9iEKSxtlQ&hl=pl&sa=X&ved=2ahUKEwiSg_TZ9c7lAhUpQkEAHcztBXU4ChDoATAHegQICRAB#v=onepage&q=numpy%20%22simple%20random%20data%22&f=false)\n",
    "\n",
    "- [SciPy.org](https://docs.scipy.org/doc/numpy-1.15.0/reference/routines.random.html)\n",
    "\n",
    "- [Introduction to numpy](https://www.youtube.com/watch?v=qVCdQUZWPp0)\n",
    "\n",
    "- [Import pictures into Jupyter notebook](https://stackoverflow.com/questions/32370281/how-to-embed-image-or-picture-in-jupyter-notebook-either-from-a-local-machine-o)\n",
    "\n",
    "- [Oxford Dictionary](https://www.lexico.com/en/definition/permutation)\n",
    "\n",
    "- [Normal Distribution by Wikipedia](https://en.wikipedia.org/wiki/Normal_distribution)\n",
    "\n",
    "- [Chi-Square Distribution SciPy](https://docs.scipy.org/doc/numpy-1.15.1/reference/generated/numpy.random.chisquare.html)\n",
    "\n",
    "- [Laplace Distribution](https://docs.w3cub.com/numpy~1.14/generated/numpy.random.laplace/)\n",
    "\n",
    "- [Generating Quasi Random Sequences from Slightly Random Sources](https://pdfs.semanticscholar.org/f124/ed3dbc541c8f6491a542bfc1dd8fd2c953ff.pdf)\n",
    "\n",
    "- [Random Seed - Wikipedia](https://en.wikipedia.org/wiki/Random_seed)"
   ]
  },
  {
   "cell_type": "code",
   "execution_count": null,
   "metadata": {},
   "outputs": [],
   "source": []
  }
 ],
 "metadata": {
  "kernelspec": {
   "display_name": "Python 3",
   "language": "python",
   "name": "python3"
  },
  "language_info": {
   "codemirror_mode": {
    "name": "ipython",
    "version": 3
   },
   "file_extension": ".py",
   "mimetype": "text/x-python",
   "name": "python",
   "nbconvert_exporter": "python",
   "pygments_lexer": "ipython3",
   "version": "3.7.3"
  }
 },
 "nbformat": 4,
 "nbformat_minor": 2
}
